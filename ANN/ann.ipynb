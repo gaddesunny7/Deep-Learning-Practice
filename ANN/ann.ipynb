{
 "cells": [
  {
   "cell_type": "code",
   "execution_count": 1,
   "metadata": {},
   "outputs": [],
   "source": [
    "import numpy as np \n",
    "import pandas as pd \n",
    "import matplotlib.pyplot as plt "
   ]
  },
  {
   "cell_type": "code",
   "execution_count": 2,
   "metadata": {},
   "outputs": [],
   "source": [
    "#Importing the dataset\n",
    "dataset = pd.read_csv('Churn_Modelling.csv')\n",
    "X = dataset.iloc[:,3:13]\n",
    "y = dataset.iloc[:,13]"
   ]
  },
  {
   "cell_type": "code",
   "execution_count": 3,
   "metadata": {},
   "outputs": [],
   "source": [
    "#Create Dummy Variables\n",
    "geography = pd.get_dummies(X['Geography'],drop_first = True)\n",
    "gender = pd.get_dummies(X['Gender'],drop_first=True)"
   ]
  },
  {
   "cell_type": "code",
   "execution_count": 4,
   "metadata": {},
   "outputs": [],
   "source": [
    "#Concatenate the Data Frames\n",
    "X = pd.concat([X,geography,gender],axis=1)"
   ]
  },
  {
   "cell_type": "code",
   "execution_count": 5,
   "metadata": {},
   "outputs": [],
   "source": [
    "## Drop Unnecessary columns\n",
    "X = X.drop(['Geography','Gender'],axis=1)"
   ]
  },
  {
   "cell_type": "code",
   "execution_count": 6,
   "metadata": {},
   "outputs": [
    {
     "data": {
      "text/html": [
       "<div>\n",
       "<style scoped>\n",
       "    .dataframe tbody tr th:only-of-type {\n",
       "        vertical-align: middle;\n",
       "    }\n",
       "\n",
       "    .dataframe tbody tr th {\n",
       "        vertical-align: top;\n",
       "    }\n",
       "\n",
       "    .dataframe thead th {\n",
       "        text-align: right;\n",
       "    }\n",
       "</style>\n",
       "<table border=\"1\" class=\"dataframe\">\n",
       "  <thead>\n",
       "    <tr style=\"text-align: right;\">\n",
       "      <th></th>\n",
       "      <th>CreditScore</th>\n",
       "      <th>Age</th>\n",
       "      <th>Tenure</th>\n",
       "      <th>Balance</th>\n",
       "      <th>NumOfProducts</th>\n",
       "      <th>HasCrCard</th>\n",
       "      <th>IsActiveMember</th>\n",
       "      <th>EstimatedSalary</th>\n",
       "      <th>Germany</th>\n",
       "      <th>Spain</th>\n",
       "      <th>Male</th>\n",
       "    </tr>\n",
       "  </thead>\n",
       "  <tbody>\n",
       "    <tr>\n",
       "      <th>0</th>\n",
       "      <td>619</td>\n",
       "      <td>42</td>\n",
       "      <td>2</td>\n",
       "      <td>0.00</td>\n",
       "      <td>1</td>\n",
       "      <td>1</td>\n",
       "      <td>1</td>\n",
       "      <td>101348.88</td>\n",
       "      <td>0</td>\n",
       "      <td>0</td>\n",
       "      <td>0</td>\n",
       "    </tr>\n",
       "    <tr>\n",
       "      <th>1</th>\n",
       "      <td>608</td>\n",
       "      <td>41</td>\n",
       "      <td>1</td>\n",
       "      <td>83807.86</td>\n",
       "      <td>1</td>\n",
       "      <td>0</td>\n",
       "      <td>1</td>\n",
       "      <td>112542.58</td>\n",
       "      <td>0</td>\n",
       "      <td>1</td>\n",
       "      <td>0</td>\n",
       "    </tr>\n",
       "    <tr>\n",
       "      <th>2</th>\n",
       "      <td>502</td>\n",
       "      <td>42</td>\n",
       "      <td>8</td>\n",
       "      <td>159660.80</td>\n",
       "      <td>3</td>\n",
       "      <td>1</td>\n",
       "      <td>0</td>\n",
       "      <td>113931.57</td>\n",
       "      <td>0</td>\n",
       "      <td>0</td>\n",
       "      <td>0</td>\n",
       "    </tr>\n",
       "    <tr>\n",
       "      <th>3</th>\n",
       "      <td>699</td>\n",
       "      <td>39</td>\n",
       "      <td>1</td>\n",
       "      <td>0.00</td>\n",
       "      <td>2</td>\n",
       "      <td>0</td>\n",
       "      <td>0</td>\n",
       "      <td>93826.63</td>\n",
       "      <td>0</td>\n",
       "      <td>0</td>\n",
       "      <td>0</td>\n",
       "    </tr>\n",
       "    <tr>\n",
       "      <th>4</th>\n",
       "      <td>850</td>\n",
       "      <td>43</td>\n",
       "      <td>2</td>\n",
       "      <td>125510.82</td>\n",
       "      <td>1</td>\n",
       "      <td>1</td>\n",
       "      <td>1</td>\n",
       "      <td>79084.10</td>\n",
       "      <td>0</td>\n",
       "      <td>1</td>\n",
       "      <td>0</td>\n",
       "    </tr>\n",
       "  </tbody>\n",
       "</table>\n",
       "</div>"
      ],
      "text/plain": [
       "   CreditScore  Age  Tenure    Balance  NumOfProducts  HasCrCard  \\\n",
       "0          619   42       2       0.00              1          1   \n",
       "1          608   41       1   83807.86              1          0   \n",
       "2          502   42       8  159660.80              3          1   \n",
       "3          699   39       1       0.00              2          0   \n",
       "4          850   43       2  125510.82              1          1   \n",
       "\n",
       "   IsActiveMember  EstimatedSalary  Germany  Spain  Male  \n",
       "0               1        101348.88        0      0     0  \n",
       "1               1        112542.58        0      1     0  \n",
       "2               0        113931.57        0      0     0  \n",
       "3               0         93826.63        0      0     0  \n",
       "4               1         79084.10        0      1     0  "
      ]
     },
     "execution_count": 6,
     "metadata": {},
     "output_type": "execute_result"
    }
   ],
   "source": [
    "X.head()"
   ]
  },
  {
   "cell_type": "code",
   "execution_count": 7,
   "metadata": {},
   "outputs": [],
   "source": [
    "# Splitting the dataset into the Training set and Test set\n",
    "from sklearn.model_selection import train_test_split\n",
    "X_train,X_test,y_train,y_test = train_test_split(X,y,random_state=0,test_size=0.2)"
   ]
  },
  {
   "cell_type": "code",
   "execution_count": 8,
   "metadata": {},
   "outputs": [],
   "source": [
    "# Feature Scaling\n",
    "from sklearn.preprocessing import StandardScaler\n",
    "sc = StandardScaler()\n",
    "X_train = sc.fit_transform(X_train)\n",
    "X_test = sc.fit_transform(X_test)"
   ]
  },
  {
   "cell_type": "code",
   "execution_count": 9,
   "metadata": {},
   "outputs": [],
   "source": [
    "# Part 2 - Now let's make the ANN!\n",
    "# Importing the Keras libraries and packages\n",
    "\n",
    "import keras \n",
    "\n",
    "from keras.models import Sequential # For creating a Neural Network\n",
    "from keras.layers import Dense  # for generally adding the hidden layers and also the input layer\n",
    "from keras.layers import Dropout # Regularization parameter"
   ]
  },
  {
   "cell_type": "code",
   "execution_count": 17,
   "metadata": {},
   "outputs": [
    {
     "name": "stdout",
     "output_type": "stream",
     "text": [
      "Epoch 1/100\n",
      "536/536 [==============================] - 3s 6ms/step - loss: 0.7066 - accuracy: 0.6044 - val_loss: 0.5928 - val_accuracy: 0.7770\n",
      "Epoch 2/100\n",
      "536/536 [==============================] - 2s 3ms/step - loss: 0.5562 - accuracy: 0.7931 - val_loss: 0.5453 - val_accuracy: 0.7940\n",
      "Epoch 3/100\n",
      "536/536 [==============================] - 3s 5ms/step - loss: 0.5282 - accuracy: 0.7962 - val_loss: 0.5273 - val_accuracy: 0.7944\n",
      "Epoch 4/100\n",
      "536/536 [==============================] - 3s 6ms/step - loss: 0.5130 - accuracy: 0.7962 - val_loss: 0.5154 - val_accuracy: 0.7944\n",
      "Epoch 5/100\n",
      "536/536 [==============================] - 2s 4ms/step - loss: 0.5020 - accuracy: 0.7964 - val_loss: 0.5065 - val_accuracy: 0.7944\n",
      "Epoch 6/100\n",
      "536/536 [==============================] - 2s 5ms/step - loss: 0.4930 - accuracy: 0.7960 - val_loss: 0.4989 - val_accuracy: 0.7944\n",
      "Epoch 7/100\n",
      "536/536 [==============================] - 3s 6ms/step - loss: 0.4856 - accuracy: 0.7959 - val_loss: 0.4927 - val_accuracy: 0.7959\n",
      "Epoch 8/100\n",
      "536/536 [==============================] - 3s 5ms/step - loss: 0.4787 - accuracy: 0.7972 - val_loss: 0.4862 - val_accuracy: 0.7955\n",
      "Epoch 9/100\n",
      "536/536 [==============================] - 3s 6ms/step - loss: 0.4722 - accuracy: 0.7972 - val_loss: 0.4806 - val_accuracy: 0.7948\n",
      "Epoch 10/100\n",
      "536/536 [==============================] - 4s 7ms/step - loss: 0.4663 - accuracy: 0.7974 - val_loss: 0.4753 - val_accuracy: 0.7940\n",
      "Epoch 11/100\n",
      "536/536 [==============================] - 2s 4ms/step - loss: 0.4605 - accuracy: 0.7979 - val_loss: 0.4706 - val_accuracy: 0.7952\n",
      "Epoch 12/100\n",
      "536/536 [==============================] - 2s 3ms/step - loss: 0.4550 - accuracy: 0.8011 - val_loss: 0.4659 - val_accuracy: 0.7940\n",
      "Epoch 13/100\n",
      "536/536 [==============================] - 2s 5ms/step - loss: 0.4496 - accuracy: 0.8039 - val_loss: 0.4611 - val_accuracy: 0.7955\n",
      "Epoch 14/100\n",
      "536/536 [==============================] - 2s 4ms/step - loss: 0.4442 - accuracy: 0.8056 - val_loss: 0.4566 - val_accuracy: 0.7982\n",
      "Epoch 15/100\n",
      "536/536 [==============================] - 2s 3ms/step - loss: 0.4394 - accuracy: 0.8072 - val_loss: 0.4527 - val_accuracy: 0.7986\n",
      "Epoch 16/100\n",
      "536/536 [==============================] - 2s 3ms/step - loss: 0.4350 - accuracy: 0.8095 - val_loss: 0.4493 - val_accuracy: 0.7997\n",
      "Epoch 17/100\n",
      "536/536 [==============================] - 2s 5ms/step - loss: 0.4314 - accuracy: 0.8100 - val_loss: 0.4463 - val_accuracy: 0.8016\n",
      "Epoch 18/100\n",
      "536/536 [==============================] - 2s 3ms/step - loss: 0.4283 - accuracy: 0.8110 - val_loss: 0.4432 - val_accuracy: 0.8035\n",
      "Epoch 19/100\n",
      "536/536 [==============================] - 2s 3ms/step - loss: 0.4255 - accuracy: 0.8125 - val_loss: 0.4407 - val_accuracy: 0.8039\n",
      "Epoch 20/100\n",
      "536/536 [==============================] - 2s 3ms/step - loss: 0.4227 - accuracy: 0.8121 - val_loss: 0.4382 - val_accuracy: 0.8069\n",
      "Epoch 21/100\n",
      "536/536 [==============================] - 2s 5ms/step - loss: 0.4199 - accuracy: 0.8143 - val_loss: 0.4357 - val_accuracy: 0.8069\n",
      "Epoch 22/100\n",
      "536/536 [==============================] - 2s 3ms/step - loss: 0.4171 - accuracy: 0.8156 - val_loss: 0.4333 - val_accuracy: 0.8099\n",
      "Epoch 23/100\n",
      "536/536 [==============================] - 2s 3ms/step - loss: 0.4147 - accuracy: 0.8177 - val_loss: 0.4314 - val_accuracy: 0.8095\n",
      "Epoch 24/100\n",
      "536/536 [==============================] - 2s 3ms/step - loss: 0.4125 - accuracy: 0.8192 - val_loss: 0.4295 - val_accuracy: 0.8107\n",
      "Epoch 25/100\n",
      "536/536 [==============================] - 2s 4ms/step - loss: 0.4103 - accuracy: 0.8201 - val_loss: 0.4274 - val_accuracy: 0.8099\n",
      "Epoch 26/100\n",
      "536/536 [==============================] - 2s 3ms/step - loss: 0.4082 - accuracy: 0.8218 - val_loss: 0.4256 - val_accuracy: 0.8114\n",
      "Epoch 27/100\n",
      "536/536 [==============================] - 2s 3ms/step - loss: 0.4060 - accuracy: 0.8237 - val_loss: 0.4238 - val_accuracy: 0.8114\n",
      "Epoch 28/100\n",
      "536/536 [==============================] - 2s 3ms/step - loss: 0.4038 - accuracy: 0.8240 - val_loss: 0.4217 - val_accuracy: 0.8114\n",
      "Epoch 29/100\n",
      "536/536 [==============================] - 2s 4ms/step - loss: 0.4018 - accuracy: 0.8261 - val_loss: 0.4203 - val_accuracy: 0.8118\n",
      "Epoch 30/100\n",
      "536/536 [==============================] - 2s 3ms/step - loss: 0.3999 - accuracy: 0.8259 - val_loss: 0.4187 - val_accuracy: 0.8126\n",
      "Epoch 31/100\n",
      "536/536 [==============================] - 2s 3ms/step - loss: 0.3978 - accuracy: 0.8259 - val_loss: 0.4169 - val_accuracy: 0.8141\n",
      "Epoch 32/100\n",
      "536/536 [==============================] - 2s 3ms/step - loss: 0.3956 - accuracy: 0.8272 - val_loss: 0.4157 - val_accuracy: 0.8133\n",
      "Epoch 33/100\n",
      "536/536 [==============================] - 2s 4ms/step - loss: 0.3937 - accuracy: 0.8281 - val_loss: 0.4135 - val_accuracy: 0.8164\n",
      "Epoch 34/100\n",
      "536/536 [==============================] - 1s 3ms/step - loss: 0.3917 - accuracy: 0.8309 - val_loss: 0.4118 - val_accuracy: 0.8179\n",
      "Epoch 35/100\n",
      "536/536 [==============================] - 2s 3ms/step - loss: 0.3898 - accuracy: 0.8309 - val_loss: 0.4102 - val_accuracy: 0.8171\n",
      "Epoch 36/100\n",
      "536/536 [==============================] - 2s 3ms/step - loss: 0.3879 - accuracy: 0.8326 - val_loss: 0.4083 - val_accuracy: 0.8205\n",
      "Epoch 37/100\n",
      "536/536 [==============================] - 3s 5ms/step - loss: 0.3858 - accuracy: 0.8328 - val_loss: 0.4063 - val_accuracy: 0.8236\n",
      "Epoch 38/100\n",
      "536/536 [==============================] - 2s 3ms/step - loss: 0.3838 - accuracy: 0.8337 - val_loss: 0.4046 - val_accuracy: 0.8254\n",
      "Epoch 39/100\n",
      "536/536 [==============================] - 2s 3ms/step - loss: 0.3818 - accuracy: 0.8358 - val_loss: 0.4034 - val_accuracy: 0.8273\n",
      "Epoch 40/100\n",
      "536/536 [==============================] - 2s 3ms/step - loss: 0.3802 - accuracy: 0.8380 - val_loss: 0.4016 - val_accuracy: 0.8281\n",
      "Epoch 41/100\n",
      "536/536 [==============================] - 3s 5ms/step - loss: 0.3783 - accuracy: 0.8410 - val_loss: 0.3996 - val_accuracy: 0.8307\n",
      "Epoch 42/100\n",
      "536/536 [==============================] - 2s 3ms/step - loss: 0.3765 - accuracy: 0.8410 - val_loss: 0.3980 - val_accuracy: 0.8319\n",
      "Epoch 43/100\n",
      "536/536 [==============================] - 4s 8ms/step - loss: 0.3747 - accuracy: 0.8423 - val_loss: 0.3967 - val_accuracy: 0.8323\n",
      "Epoch 44/100\n",
      "536/536 [==============================] - 2s 4ms/step - loss: 0.3731 - accuracy: 0.8451 - val_loss: 0.3949 - val_accuracy: 0.8326\n",
      "Epoch 45/100\n",
      "536/536 [==============================] - 1s 2ms/step - loss: 0.3713 - accuracy: 0.8444 - val_loss: 0.3931 - val_accuracy: 0.8342\n",
      "Epoch 46/100\n",
      "536/536 [==============================] - 2s 4ms/step - loss: 0.3697 - accuracy: 0.8459 - val_loss: 0.3917 - val_accuracy: 0.8334\n",
      "Epoch 47/100\n",
      "536/536 [==============================] - 5s 9ms/step - loss: 0.3680 - accuracy: 0.8461 - val_loss: 0.3901 - val_accuracy: 0.8357\n",
      "Epoch 48/100\n",
      "536/536 [==============================] - 6s 11ms/step - loss: 0.3663 - accuracy: 0.8470 - val_loss: 0.3885 - val_accuracy: 0.8360\n",
      "Epoch 49/100\n",
      "536/536 [==============================] - 3s 6ms/step - loss: 0.3647 - accuracy: 0.8470 - val_loss: 0.3870 - val_accuracy: 0.8379\n",
      "Epoch 50/100\n",
      "536/536 [==============================] - 4s 7ms/step - loss: 0.3633 - accuracy: 0.8487 - val_loss: 0.3853 - val_accuracy: 0.8383\n",
      "Epoch 51/100\n",
      "536/536 [==============================] - 3s 6ms/step - loss: 0.3616 - accuracy: 0.8490 - val_loss: 0.3838 - val_accuracy: 0.8387\n",
      "Epoch 52/100\n",
      "536/536 [==============================] - 3s 6ms/step - loss: 0.3600 - accuracy: 0.8500 - val_loss: 0.3825 - val_accuracy: 0.8391\n",
      "Epoch 53/100\n",
      "536/536 [==============================] - 4s 8ms/step - loss: 0.3586 - accuracy: 0.8511 - val_loss: 0.3808 - val_accuracy: 0.8406\n",
      "Epoch 54/100\n",
      "536/536 [==============================] - 4s 8ms/step - loss: 0.3571 - accuracy: 0.8515 - val_loss: 0.3794 - val_accuracy: 0.8406\n",
      "Epoch 55/100\n",
      "536/536 [==============================] - 3s 6ms/step - loss: 0.3555 - accuracy: 0.8518 - val_loss: 0.3778 - val_accuracy: 0.8402\n",
      "Epoch 56/100\n",
      "536/536 [==============================] - 5s 9ms/step - loss: 0.3541 - accuracy: 0.8528 - val_loss: 0.3762 - val_accuracy: 0.8410\n",
      "Epoch 57/100\n",
      "536/536 [==============================] - 3s 6ms/step - loss: 0.3527 - accuracy: 0.8539 - val_loss: 0.3749 - val_accuracy: 0.8410\n"
     ]
    },
    {
     "name": "stdout",
     "output_type": "stream",
     "text": [
      "Epoch 58/100\n",
      "536/536 [==============================] - 6s 11ms/step - loss: 0.3512 - accuracy: 0.8539 - val_loss: 0.3735 - val_accuracy: 0.8425\n",
      "Epoch 59/100\n",
      "536/536 [==============================] - 5s 8ms/step - loss: 0.3499 - accuracy: 0.8552 - val_loss: 0.3723 - val_accuracy: 0.8436\n",
      "Epoch 60/100\n",
      "536/536 [==============================] - 5s 8ms/step - loss: 0.3487 - accuracy: 0.8554 - val_loss: 0.3713 - val_accuracy: 0.8440\n",
      "Epoch 61/100\n",
      "536/536 [==============================] - 5s 10ms/step - loss: 0.3474 - accuracy: 0.8559 - val_loss: 0.3705 - val_accuracy: 0.8444\n",
      "Epoch 62/100\n",
      "536/536 [==============================] - 3s 6ms/step - loss: 0.3463 - accuracy: 0.8561 - val_loss: 0.3690 - val_accuracy: 0.8451\n",
      "Epoch 63/100\n",
      "536/536 [==============================] - 3s 5ms/step - loss: 0.3453 - accuracy: 0.8565 - val_loss: 0.3681 - val_accuracy: 0.8466\n",
      "Epoch 64/100\n",
      "536/536 [==============================] - 3s 6ms/step - loss: 0.3443 - accuracy: 0.8571 - val_loss: 0.3671 - val_accuracy: 0.8474\n",
      "Epoch 65/100\n",
      "536/536 [==============================] - 4s 8ms/step - loss: 0.3434 - accuracy: 0.8576 - val_loss: 0.3662 - val_accuracy: 0.8501\n",
      "Epoch 66/100\n",
      "536/536 [==============================] - 3s 6ms/step - loss: 0.3424 - accuracy: 0.8587 - val_loss: 0.3653 - val_accuracy: 0.8489\n",
      "Epoch 67/100\n",
      "536/536 [==============================] - 5s 9ms/step - loss: 0.3416 - accuracy: 0.8595 - val_loss: 0.3647 - val_accuracy: 0.8516\n",
      "Epoch 68/100\n",
      "536/536 [==============================] - 3s 6ms/step - loss: 0.3408 - accuracy: 0.8606 - val_loss: 0.3639 - val_accuracy: 0.8535\n",
      "Epoch 69/100\n",
      "536/536 [==============================] - 4s 8ms/step - loss: 0.3402 - accuracy: 0.8614 - val_loss: 0.3635 - val_accuracy: 0.8512\n",
      "Epoch 70/100\n",
      "536/536 [==============================] - 5s 9ms/step - loss: 0.3394 - accuracy: 0.8610 - val_loss: 0.3627 - val_accuracy: 0.8535\n",
      "Epoch 71/100\n",
      "536/536 [==============================] - 4s 7ms/step - loss: 0.3389 - accuracy: 0.8614 - val_loss: 0.3623 - val_accuracy: 0.8538\n",
      "Epoch 72/100\n",
      "536/536 [==============================] - 3s 5ms/step - loss: 0.3383 - accuracy: 0.8621 - val_loss: 0.3621 - val_accuracy: 0.8527\n",
      "Epoch 73/100\n",
      "536/536 [==============================] - 3s 6ms/step - loss: 0.3378 - accuracy: 0.8623 - val_loss: 0.3616 - val_accuracy: 0.8527\n",
      "Epoch 74/100\n",
      "536/536 [==============================] - 3s 6ms/step - loss: 0.3372 - accuracy: 0.8634 - val_loss: 0.3610 - val_accuracy: 0.8538\n",
      "Epoch 75/100\n",
      "536/536 [==============================] - 2s 4ms/step - loss: 0.3369 - accuracy: 0.8630 - val_loss: 0.3609 - val_accuracy: 0.8554\n",
      "Epoch 76/100\n",
      "536/536 [==============================] - 2s 4ms/step - loss: 0.3363 - accuracy: 0.8632 - val_loss: 0.3615 - val_accuracy: 0.8550\n",
      "Epoch 77/100\n",
      "536/536 [==============================] - 2s 5ms/step - loss: 0.3359 - accuracy: 0.8625 - val_loss: 0.3603 - val_accuracy: 0.8527\n",
      "Epoch 78/100\n",
      "536/536 [==============================] - 2s 4ms/step - loss: 0.3358 - accuracy: 0.8643 - val_loss: 0.3602 - val_accuracy: 0.8538\n",
      "Epoch 79/100\n",
      "536/536 [==============================] - 2s 3ms/step - loss: 0.3355 - accuracy: 0.8642 - val_loss: 0.3598 - val_accuracy: 0.8546\n",
      "Epoch 80/100\n",
      "536/536 [==============================] - 2s 5ms/step - loss: 0.3352 - accuracy: 0.8645 - val_loss: 0.3607 - val_accuracy: 0.8542\n",
      "Epoch 81/100\n",
      "536/536 [==============================] - 2s 3ms/step - loss: 0.3352 - accuracy: 0.8632 - val_loss: 0.3601 - val_accuracy: 0.8546\n",
      "Epoch 82/100\n",
      "536/536 [==============================] - 2s 3ms/step - loss: 0.3347 - accuracy: 0.8638 - val_loss: 0.3594 - val_accuracy: 0.8542\n",
      "Epoch 83/100\n",
      "536/536 [==============================] - 3s 5ms/step - loss: 0.3344 - accuracy: 0.8647 - val_loss: 0.3597 - val_accuracy: 0.8550\n",
      "Epoch 84/100\n",
      "536/536 [==============================] - 5s 9ms/step - loss: 0.3344 - accuracy: 0.8632 - val_loss: 0.3594 - val_accuracy: 0.8542\n",
      "Epoch 85/100\n",
      "536/536 [==============================] - 4s 7ms/step - loss: 0.3341 - accuracy: 0.8636 - val_loss: 0.3592 - val_accuracy: 0.8535\n",
      "Epoch 86/100\n",
      "536/536 [==============================] - 3s 5ms/step - loss: 0.3341 - accuracy: 0.8649 - val_loss: 0.3593 - val_accuracy: 0.8542\n",
      "Epoch 87/100\n",
      "536/536 [==============================] - 2s 4ms/step - loss: 0.3338 - accuracy: 0.8642 - val_loss: 0.3597 - val_accuracy: 0.8550\n",
      "Epoch 88/100\n",
      "536/536 [==============================] - 2s 3ms/step - loss: 0.3337 - accuracy: 0.8642 - val_loss: 0.3590 - val_accuracy: 0.8535\n",
      "Epoch 89/100\n",
      "536/536 [==============================] - 2s 5ms/step - loss: 0.3335 - accuracy: 0.8632 - val_loss: 0.3588 - val_accuracy: 0.8535\n",
      "Epoch 90/100\n",
      "536/536 [==============================] - 2s 3ms/step - loss: 0.3335 - accuracy: 0.8638 - val_loss: 0.3589 - val_accuracy: 0.8531\n",
      "Epoch 91/100\n",
      "536/536 [==============================] - 2s 3ms/step - loss: 0.3333 - accuracy: 0.8640 - val_loss: 0.3589 - val_accuracy: 0.8531\n",
      "Epoch 92/100\n",
      "536/536 [==============================] - 2s 3ms/step - loss: 0.3333 - accuracy: 0.8642 - val_loss: 0.3591 - val_accuracy: 0.8542\n",
      "Epoch 93/100\n",
      "536/536 [==============================] - 2s 5ms/step - loss: 0.3328 - accuracy: 0.8632 - val_loss: 0.3591 - val_accuracy: 0.8535\n",
      "Epoch 94/100\n",
      "536/536 [==============================] - 2s 3ms/step - loss: 0.3326 - accuracy: 0.8645 - val_loss: 0.3586 - val_accuracy: 0.8542\n",
      "Epoch 95/100\n",
      "536/536 [==============================] - 2s 3ms/step - loss: 0.3328 - accuracy: 0.8634 - val_loss: 0.3590 - val_accuracy: 0.8538\n",
      "Epoch 96/100\n",
      "536/536 [==============================] - 2s 4ms/step - loss: 0.3328 - accuracy: 0.8638 - val_loss: 0.3585 - val_accuracy: 0.8538\n",
      "Epoch 97/100\n",
      "536/536 [==============================] - 2s 4ms/step - loss: 0.3326 - accuracy: 0.8634 - val_loss: 0.3589 - val_accuracy: 0.8538\n",
      "Epoch 98/100\n",
      "536/536 [==============================] - 1s 3ms/step - loss: 0.3324 - accuracy: 0.8640 - val_loss: 0.3584 - val_accuracy: 0.8531\n",
      "Epoch 99/100\n",
      "536/536 [==============================] - 2s 3ms/step - loss: 0.3324 - accuracy: 0.8640 - val_loss: 0.3586 - val_accuracy: 0.8550\n",
      "Epoch 100/100\n",
      "536/536 [==============================] - 2s 4ms/step - loss: 0.3324 - accuracy: 0.8642 - val_loss: 0.3588 - val_accuracy: 0.8538\n"
     ]
    }
   ],
   "source": [
    "# Initialising the ANN\n",
    "classifier = Sequential()\n",
    "\n",
    "# Adding the input layer and the first hidden layer\n",
    "classifier.add(Dense(units = 6, kernel_initializer = 'he_uniform',activation='relu',input_dim = 11))\n",
    "\n",
    "# Adding the second hidden layer\n",
    "classifier.add(Dense(units = 6, kernel_initializer = 'he_uniform',activation='relu'))\n",
    "# Adding the output layer\n",
    "classifier.add(Dense(units = 1, kernel_initializer = 'glorot_uniform', activation = 'sigmoid'))\n",
    "\n",
    "# Compiling the ANN\n",
    "classifier.compile(optimizer = 'Adamax', loss = 'binary_crossentropy', metrics = ['accuracy'])\n",
    "\n",
    "# Fitting the ANN to the Training set\n",
    "model_history=classifier.fit(X_train, y_train,validation_split=0.33, batch_size = 10, epochs = 100)\n",
    "\n"
   ]
  },
  {
   "cell_type": "code",
   "execution_count": 18,
   "metadata": {},
   "outputs": [
    {
     "name": "stdout",
     "output_type": "stream",
     "text": [
      "dict_keys(['loss', 'accuracy', 'val_loss', 'val_accuracy'])\n"
     ]
    }
   ],
   "source": [
    "# list all data in history\n",
    "\n",
    "print(model_history.history.keys())"
   ]
  },
  {
   "cell_type": "code",
   "execution_count": 19,
   "metadata": {},
   "outputs": [
    {
     "data": {
      "image/png": "[encoded data removed]",
      "text/plain": [
       "<Figure size 432x288 with 1 Axes>"
      ]
     },
     "metadata": {
      "needs_background": "light"
     },
     "output_type": "display_data"
    }
   ],
   "source": [
    "\n",
    "# summarize history for accuracy\n",
    "plt.plot(model_history.history['accuracy'])\n",
    "plt.plot(model_history.history['val_accuracy'])\n",
    "plt.title('model accuracy')\n",
    "plt.ylabel('accuracy')\n",
    "plt.xlabel('epoch')\n",
    "plt.legend(['train', 'test'], loc='upper left')\n",
    "plt.show()"
   ]
  },
  {
   "cell_type": "code",
   "execution_count": 20,
   "metadata": {},
   "outputs": [
    {
     "data": {
      "image/png": "[encoded data removed]",
      "text/plain": [
       "<Figure size 432x288 with 1 Axes>"
      ]
     },
     "metadata": {
      "needs_background": "light"
     },
     "output_type": "display_data"
    }
   ],
   "source": [
    "# summarize history for loss\n",
    "plt.plot(model_history.history['loss'])\n",
    "plt.plot(model_history.history['val_loss'])\n",
    "plt.title('model loss')\n",
    "plt.ylabel('loss')\n",
    "plt.xlabel('epoch')\n",
    "plt.legend(['train', 'test'], loc='upper left')\n",
    "plt.show()"
   ]
  },
  {
   "cell_type": "code",
   "execution_count": 21,
   "metadata": {},
   "outputs": [],
   "source": [
    "# Part 3 - Making the predictions and evaluating the model\n",
    "\n",
    "# Predicting the Test set results\n",
    "y_pred = classifier.predict(X_test)\n",
    "y_pred = (y_pred > 0.5)\n"
   ]
  },
  {
   "cell_type": "code",
   "execution_count": 23,
   "metadata": {},
   "outputs": [],
   "source": [
    "# Making the Confusion Matrix\n",
    "from sklearn.metrics import confusion_matrix\n",
    "cm = confusion_matrix(y_test, y_pred)"
   ]
  },
  {
   "cell_type": "code",
   "execution_count": 26,
   "metadata": {},
   "outputs": [
    {
     "data": {
      "text/plain": [
       "0.8625"
      ]
     },
     "execution_count": 26,
     "metadata": {},
     "output_type": "execute_result"
    }
   ],
   "source": [
    "# Calculate the Accuracy\n",
    "from sklearn.metrics import accuracy_score\n",
    "score=accuracy_score(y_pred,y_test)\n",
    "score"
   ]
  },
  {
   "cell_type": "code",
   "execution_count": null,
   "metadata": {},
   "outputs": [],
   "source": []
  }
 ],
 "metadata": {
  "kernelspec": {
   "display_name": "Python 3",
   "language": "python",
   "name": "python3"
  },
  "language_info": {
   "codemirror_mode": {
    "name": "ipython",
    "version": 3
   },
   "file_extension": ".py",
   "mimetype": "text/x-python",
   "name": "python",
   "nbconvert_exporter": "python",
   "pygments_lexer": "ipython3",
   "version": "3.7.6"
  }
 },
 "nbformat": 4,
 "nbformat_minor": 4
}
